{
 "cells": [
  {
   "cell_type": "code",
   "execution_count": 1,
   "metadata": {},
   "outputs": [],
   "source": [
    "import pandas as pd\n",
    "import xgboost as xgb\n",
    "import pickle"
   ]
  },
  {
   "cell_type": "code",
   "execution_count": null,
   "metadata": {},
   "outputs": [],
   "source": [
    "dc={}\n",
    "dc['Sunshine']=[1]\n",
    "dc['Humidity9am']=\n",
    "dc['Humidity3pm']=\n",
    "dc['Rainfall']=\n",
    "dc['Pressure9am']=\n",
    "dc['Pressure3pm']=\n",
    "dc['Cloud9am']=\n",
    "dc['Temp9am']=\n",
    "dc['Temp3pm']=\n",
    "\n",
    "predf=pd.DataFrame(dc)\n",
    "pred=[]\n",
    "for x in range(1,6):\n",
    "    model=pickle.loads('xgbmodel_'+str(x))\n",
    "    pred.append(model.predict_proba(predf)[0][1])\n",
    "    \n",
    "\n"
   ]
  }
 ],
 "metadata": {
  "kernelspec": {
   "display_name": "Python 3",
   "language": "python",
   "name": "python3"
  },
  "language_info": {
   "codemirror_mode": {
    "name": "ipython",
    "version": 3
   },
   "file_extension": ".py",
   "mimetype": "text/x-python",
   "name": "python",
   "nbconvert_exporter": "python",
   "pygments_lexer": "ipython3",
   "version": "3.7.3"
  }
 },
 "nbformat": 4,
 "nbformat_minor": 4
}
